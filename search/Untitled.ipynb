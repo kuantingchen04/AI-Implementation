{
 "cells": [
  {
   "cell_type": "code",
   "execution_count": 11,
   "metadata": {
    "scrolled": true
   },
   "outputs": [
    {
     "name": "stdout",
     "output_type": "stream",
     "text": [
      "['Ann Arbor', 'Plymouth', '19.2']\n",
      "['Ann Arbor', 'Plymouth', '17.2']\n",
      "['Ann Arbor', 'Romulus', '23.1']\n",
      "['Brighton', 'Farmington Hills', '21.4']\n",
      "['Brighton', 'Pontiac', '34.1']\n",
      "['Plymouth', 'Romulus', '23.1']\n",
      "['Plymouth', 'Farmington', '14']\n",
      "['Plymouth', 'Detroit', '27.9']\n",
      "['Romulus', 'Detroit', '31.0']\n",
      "['Farmington Hills', 'Royal Oak', '16.9']\n",
      "['Farmington Hills', 'Detroit', '28.3']\n",
      "['Farmington Hills', 'Pontiac', '15.5']\n",
      "['Pontiac', 'Sterling Heights', '17.2']\n",
      "['Pontiac', 'Royal Oak', '13.3']\n",
      "['Romeo', 'Pontiac', '27.8']\n",
      "['Romeo', 'Sterling Heights', '16.5']\n"
     ]
    }
   ],
   "source": [
    "import csv\n",
    "input_file = \"transition.csv\"\n",
    "with open(input_file, 'r') as f:\n",
    "    csv_reader = csv.reader(f)\n",
    "    for line in csv_reader:\n",
    "        print (line)\n",
    "#         [v, w, cost] = line[0], line[1], int(line[2])\n",
    "#         G.add_edge(v, w, cost)"
   ]
  },
  {
   "cell_type": "code",
   "execution_count": null,
   "metadata": {},
   "outputs": [],
   "source": []
  }
 ],
 "metadata": {
  "kernelspec": {
   "display_name": "Python 3",
   "language": "python",
   "name": "python3"
  },
  "language_info": {
   "codemirror_mode": {
    "name": "ipython",
    "version": 3
   },
   "file_extension": ".py",
   "mimetype": "text/x-python",
   "name": "python",
   "nbconvert_exporter": "python",
   "pygments_lexer": "ipython3",
   "version": "3.6.4"
  }
 },
 "nbformat": 4,
 "nbformat_minor": 2
}
